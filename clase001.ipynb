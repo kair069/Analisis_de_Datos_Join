{
 "cells": [
  {
   "cell_type": "code",
   "execution_count": null,
   "metadata": {},
   "outputs": [
    {
     "name": "stdout",
     "output_type": "stream",
     "text": [
      "alex\n",
      "['rectangulo', 'circulo']\n"
     ]
    }
   ],
   "source": [
    "print(\"alex\")\n",
    "import numpy as np\n",
    "lista = [\"rectangulo\",\"circulo\"]\n",
    "print(lista)\n",
    "\n"
   ]
  },
  {
   "cell_type": "code",
   "execution_count": 8,
   "metadata": {},
   "outputs": [
    {
     "name": "stdout",
     "output_type": "stream",
     "text": [
      "{'ID': [1, 2, 3], 'Name': ['Alice', 'Bob', 'Charlie']}\n"
     ]
    }
   ],
   "source": [
    "#diccionario\n",
    "diccionario = {'ID': [1, 2, 3], 'Name': ['Alice', 'Bob', 'Charlie']}\n",
    "print(diccionario)"
   ]
  },
  {
   "cell_type": "code",
   "execution_count": 11,
   "metadata": {},
   "outputs": [
    {
     "name": "stdout",
     "output_type": "stream",
     "text": [
      "   ID     Name\n",
      "0   1    Alice\n",
      "1   2      Bob\n",
      "2   3  Charlie\n"
     ]
    }
   ],
   "source": [
    "import pandas as pd\n",
    "df1 = pd.DataFrame(diccionario)\n",
    "print(df1)"
   ]
  },
  {
   "cell_type": "code",
   "execution_count": 14,
   "metadata": {},
   "outputs": [
    {
     "name": "stdout",
     "output_type": "stream",
     "text": [
      "   ID  Score\n",
      "0   2     85\n",
      "1   3     90\n",
      "2   4     88\n"
     ]
    }
   ],
   "source": [
    "diccionario2= {'ID': [2, 3, 4], 'Score': [85, 90, 88]}\n",
    "df2 = pd.DataFrame(diccionario2)\n",
    "print(df2)"
   ]
  },
  {
   "cell_type": "code",
   "execution_count": null,
   "metadata": {},
   "outputs": [
    {
     "name": "stdout",
     "output_type": "stream",
     "text": [
      "   ID     Name  Score\n",
      "0   2      Bob     85\n",
      "1   3  Charlie     90\n"
     ]
    }
   ],
   "source": [
    "#join\n",
    "tabla_Resultante = pd.merge(df1,df2,on=\"ID\",how=\"outer\")\n",
    "print(tabla_Resultante)"
   ]
  }
 ],
 "metadata": {
  "kernelspec": {
   "display_name": "Python 3",
   "language": "python",
   "name": "python3"
  },
  "language_info": {
   "codemirror_mode": {
    "name": "ipython",
    "version": 3
   },
   "file_extension": ".py",
   "mimetype": "text/x-python",
   "name": "python",
   "nbconvert_exporter": "python",
   "pygments_lexer": "ipython3",
   "version": "3.12.7"
  }
 },
 "nbformat": 4,
 "nbformat_minor": 2
}
