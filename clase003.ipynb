{
 "cells": [
  {
   "cell_type": "code",
   "execution_count": null,
   "metadata": {},
   "outputs": [],
   "source": [
    "from pyspark.sql import SparkSession\n",
    "\n",
    "# Crear una sesión de Spark\n",
    "spark = SparkSession.builder \\\n",
    "    .appName(\"Prueba Spark\") \\\n",
    "    .getOrCreate()\n",
    "\n",
    "# Imprimir la versión de Spark\n",
    "print(f\"Versión de Apache Spark: {spark.version}\")\n",
    "\n",
    "# Detener la sesión\n",
    "spark.stop()\n"
   ]
  }
 ],
 "metadata": {
  "language_info": {
   "name": "python"
  }
 },
 "nbformat": 4,
 "nbformat_minor": 2
}
