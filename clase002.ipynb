{
 "cells": [
  {
   "cell_type": "code",
   "execution_count": 2,
   "metadata": {},
   "outputs": [
    {
     "name": "stderr",
     "output_type": "stream",
     "text": [
      "C:\\Users\\jaret\\AppData\\Local\\Temp\\ipykernel_56336\\3797182642.py:8: DtypeWarning: Columns (15,18) have mixed types. Specify dtype option on import or set low_memory=False.\n",
      "  df1 = pd.read_csv(nombre_archivo)\n"
     ]
    },
    {
     "name": "stdout",
     "output_type": "stream",
     "text": [
      "Datos de REC21_2023:\n",
      "        ID1              CASEID  BIDX  BORD  B0  B1    B2    B3  B4  B5  ...  \\\n",
      "0      2023        000100601  2     4     1   0   6  2001  1218   1   1  ...   \n",
      "1      2023        000102201  2     1     1   0  11  2020  1451   2   1  ...   \n",
      "2      2023        000102801  1     2     1   0  10  2015  1391   1   1  ...   \n",
      "3      2023        000106501  2     1     1   0   6  2018  1423   2   1  ...   \n",
      "4      2023        000108001  1     2     1   0   6  2012  1351   1   1  ...   \n",
      "...     ...                 ...   ...   ...  ..  ..   ...   ...  ..  ..  ...   \n",
      "63588  2023        542607001  2     1    13   0   3  2019  1431   1   1  ...   \n",
      "63589  2023        362208901  2     3    14   0   4  2011  1336   2   0  ...   \n",
      "63590  2023        532901101  2     1    14   0   4  2014  1372   1   1  ...   \n",
      "63591  2023        362208901  2     2    15   0   6  2015  1386   1   1  ...   \n",
      "63592  2023        362208901  2     1    16   0   4  2017  1408   1   1  ...   \n",
      "\n",
      "       BCMC BEDAD QD333_1 QD333_2  QD333_3 QD333_4 QD333_5 QD333_6 Q220A QULT5  \n",
      "0      1478   260                                                            0  \n",
      "1      1478    27       2       2        2       2       2       2     9     1  \n",
      "2      1478    87                                                            0  \n",
      "3      1478    55       2       2        2       2       2       2     9     1  \n",
      "4      1478   127                                                            0  \n",
      "...     ...   ...     ...     ...      ...     ...     ...     ...   ...   ...  \n",
      "63588  1483    52       2       2        2       2       2       2     9     1  \n",
      "63589  1482   146                                                            0  \n",
      "63590  1487   115                                                            0  \n",
      "63591  1482    96                                                            0  \n",
      "63592  1482    74                                                            1  \n",
      "\n",
      "[63593 rows x 34 columns]\n",
      "Datos de RE223132_2023:\n",
      "        ID1              CASEID  V201  V202  V203  V204  V205  V206  V207  \\\n",
      "0      2023        000100601  2     4     1     3     0     0     0     0   \n",
      "1      2023        000100601  3     0     0     0     0     0     0     0   \n",
      "2      2023        000101001  3     0     0     0     0     0     0     0   \n",
      "3      2023        000102201  2     1     0     1     0     0     0     0   \n",
      "4      2023        000102801  1     2     1     1     0     0     0     0   \n",
      "...     ...                 ...   ...   ...   ...   ...   ...   ...   ...   \n",
      "35652  2023        542901001  4     1     0     1     0     0     0     0   \n",
      "35653  2023        542901501  1     8     2     2     2     2     0     0   \n",
      "35654  2023        542901501  5     1     0     1     0     0     0     0   \n",
      "35655  2023        542901701  1     3     1     2     0     0     0     0   \n",
      "35656  2023        542901701  2     0     0     0     0     0     0     0   \n",
      "\n",
      "       V208  ...  V307_07  V307_08 V307_09 V307_10  V307_11 V307_12  V307_13  \\\n",
      "0         1  ...                 1       0                                 0   \n",
      "1         0  ...                                                               \n",
      "2         0  ...                                                               \n",
      "3         1  ...                 0                        1                    \n",
      "4         1  ...                 0       0                                     \n",
      "...     ...  ...      ...      ...     ...     ...      ...     ...      ...   \n",
      "35652     0  ...                 0       1                0                    \n",
      "35653     0  ...                                                               \n",
      "35654     0  ...                         0                                     \n",
      "35655     0  ...                 0                                             \n",
      "35656     0  ...                                                               \n",
      "\n",
      "       V307_14  V307_15  V307_16  \n",
      "0                                 \n",
      "1                                 \n",
      "2                                 \n",
      "3                                 \n",
      "4                              0  \n",
      "...        ...      ...      ...  \n",
      "35652                          0  \n",
      "35653                             \n",
      "35654                          0  \n",
      "35655                             \n",
      "35656                             \n",
      "\n",
      "[35657 rows x 149 columns]\n"
     ]
    }
   ],
   "source": [
    "import pandas as pd\n",
    "\n",
    "# Cargar el archivo CSV\n",
    "nombre_archivo = \"REC21_2023.csv\"  # Asegúrate de proporcionar la ruta correcta\n",
    "hoja = \"REC21_2023\"  # Nombre lógico para la \"hoja\"\n",
    "\n",
    "# Importar los datos del CSV\n",
    "df1 = pd.read_csv(nombre_archivo)\n",
    "\n",
    "# Imprimir los datos con el nombre de la hoja\n",
    "print(f\"Datos de {hoja}:\")\n",
    "print(df1)\n",
    "\n",
    "#######################\n",
    "import pandas as pd\n",
    "\n",
    "# Cargar el archivo CSV\n",
    "nombre_archivo1 = \"RE223132_2023.csv\"  # Asegúrate de proporcionar la ruta correcta\n",
    "hoja1 = \"RE223132_2023\"  # Nombre lógico para la \"hoja\"\n",
    "\n",
    "# Importar los datos del CSV\n",
    "df2 = pd.read_csv(nombre_archivo1)\n",
    "\n",
    "# Imprimir los datos con el nombre de la hoja\n",
    "print(f\"Datos de {hoja1}:\")\n",
    "print(df2)\n"
   ]
  },
  {
   "cell_type": "code",
   "execution_count": 4,
   "metadata": {},
   "outputs": [
    {
     "name": "stdout",
     "output_type": "stream",
     "text": [
      "        ID1              CASEID  BIDX  BORD  B0  B1    B2    B3  B4  B5  ...  \\\n",
      "0      2023        000100601  2     4     1   0   6  2001  1218   1   1  ...   \n",
      "1      2023        000102201  2     1     1   0  11  2020  1451   2   1  ...   \n",
      "2      2023        000102801  1     2     1   0  10  2015  1391   1   1  ...   \n",
      "3      2023        000106501  2     1     1   0   6  2018  1423   2   1  ...   \n",
      "4      2023        000108001  1     2     1   0   6  2012  1351   1   1  ...   \n",
      "...     ...                 ...   ...   ...  ..  ..   ...   ...  ..  ..  ...   \n",
      "63588  2023        542607001  2     1    13   0   3  2019  1431   1   1  ...   \n",
      "63589  2023        362208901  2     3    14   0   4  2011  1336   2   0  ...   \n",
      "63590  2023        532901101  2     1    14   0   4  2014  1372   1   1  ...   \n",
      "63591  2023        362208901  2     2    15   0   6  2015  1386   1   1  ...   \n",
      "63592  2023        362208901  2     1    16   0   4  2017  1408   1   1  ...   \n",
      "\n",
      "       BCMC BEDAD QD333_1 QD333_2  QD333_3 QD333_4 QD333_5 QD333_6 Q220A QULT5  \n",
      "0      1478   260                                                            0  \n",
      "1      1478    27       2       2        2       2       2       2     9     1  \n",
      "2      1478    87                                                            0  \n",
      "3      1478    55       2       2        2       2       2       2     9     1  \n",
      "4      1478   127                                                            0  \n",
      "...     ...   ...     ...     ...      ...     ...     ...     ...   ...   ...  \n",
      "63588  1483    52       2       2        2       2       2       2     9     1  \n",
      "63589  1482   146                                                            0  \n",
      "63590  1487   115                                                            0  \n",
      "63591  1482    96                                                            0  \n",
      "63592  1482    74                                                            1  \n",
      "\n",
      "[63593 rows x 34 columns]\n"
     ]
    }
   ],
   "source": [
    "print(df1)"
   ]
  },
  {
   "cell_type": "code",
   "execution_count": 10,
   "metadata": {},
   "outputs": [],
   "source": [
    "df_filtrado1 = df1[['CASEID', 'B4']]"
   ]
  },
  {
   "cell_type": "code",
   "execution_count": 11,
   "metadata": {},
   "outputs": [
    {
     "name": "stdout",
     "output_type": "stream",
     "text": [
      "                   CASEID  B4\n",
      "0            000100601  2   1\n",
      "1            000102201  2   2\n",
      "2            000102801  1   1\n",
      "3            000106501  2   2\n",
      "4            000108001  1   1\n",
      "...                   ...  ..\n",
      "63588        542607001  2   1\n",
      "63589        362208901  2   2\n",
      "63590        532901101  2   1\n",
      "63591        362208901  2   1\n",
      "63592        362208901  2   1\n",
      "\n",
      "[63593 rows x 2 columns]\n"
     ]
    }
   ],
   "source": [
    "print(df_filtrado1 )"
   ]
  },
  {
   "cell_type": "code",
   "execution_count": 13,
   "metadata": {},
   "outputs": [
    {
     "name": "stdout",
     "output_type": "stream",
     "text": [
      "                   CASEID  V206\n",
      "0            000100601  2     0\n",
      "1            000100601  3     0\n",
      "2            000101001  3     0\n",
      "3            000102201  2     0\n",
      "4            000102801  1     0\n",
      "...                   ...   ...\n",
      "35652        542901001  4     0\n",
      "35653        542901501  1     0\n",
      "35654        542901501  5     0\n",
      "35655        542901701  1     0\n",
      "35656        542901701  2     0\n",
      "\n",
      "[35657 rows x 2 columns]\n"
     ]
    }
   ],
   "source": [
    "df_filtrado2 = df2[['CASEID', 'V206']]\n",
    "print(df_filtrado2)"
   ]
  },
  {
   "cell_type": "code",
   "execution_count": 7,
   "metadata": {},
   "outputs": [],
   "source": [
    "# tabla_Resultante_1 = pd.merge(df1,df2,on=\"ID1\",how=\"inner\")\n",
    "# print(tabla_Resultante_1)"
   ]
  },
  {
   "cell_type": "code",
   "execution_count": 14,
   "metadata": {},
   "outputs": [
    {
     "name": "stdout",
     "output_type": "stream",
     "text": [
      "                  CASEID  B4  V206\n",
      "0           335507601  1   1     0\n",
      "1           336205101  2   1     0\n",
      "2           336703401  2   1     0\n",
      "3           336904701  2   2     0\n",
      "4           337200601  2   1     0\n",
      "...                  ...  ..   ...\n",
      "3016        538710901  2   2     0\n",
      "3017        538910601  2   1     0\n",
      "3018        539311301  2   2     0\n",
      "3019        539507001  2   1     0\n",
      "3020        540704001  2   1     0\n",
      "\n",
      "[63593 rows x 3 columns]\n"
     ]
    }
   ],
   "source": [
    "import dask.dataframe as dd\n",
    "\n",
    "# Leer los DataFrames como Dask DataFrames\n",
    "df1_dask = dd.from_pandas(df_filtrado1, npartitions=20)  # Puedes ajustar el número de particiones\n",
    "df2_dask = dd.from_pandas(df_filtrado2, npartitions=20)\n",
    "\n",
    "# Realizar el merge\n",
    "tabla_Resultante_1 = dd.merge(df1_dask, df2_dask, on=\"CASEID\", how=\"inner\")\n",
    "\n",
    "# Computar el resultado\n",
    "tabla_Resultante_1 = tabla_Resultante_1.compute()\n",
    "\n",
    "# Imprimir el resultado\n",
    "print(tabla_Resultante_1)\n"
   ]
  },
  {
   "cell_type": "code",
   "execution_count": 15,
   "metadata": {},
   "outputs": [],
   "source": [
    "# Exportar datos y luego aplicar formato\n",
    "tabla_Resultante_1.to_excel('tabla_r.xlsx', sheet_name='Hoja1', index=False)\n"
   ]
  }
 ],
 "metadata": {
  "kernelspec": {
   "display_name": "Python 3",
   "language": "python",
   "name": "python3"
  },
  "language_info": {
   "codemirror_mode": {
    "name": "ipython",
    "version": 3
   },
   "file_extension": ".py",
   "mimetype": "text/x-python",
   "name": "python",
   "nbconvert_exporter": "python",
   "pygments_lexer": "ipython3",
   "version": "3.12.7"
  }
 },
 "nbformat": 4,
 "nbformat_minor": 2
}
