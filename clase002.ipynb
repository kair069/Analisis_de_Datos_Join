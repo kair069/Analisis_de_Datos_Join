{
 "cells": [
  {
   "cell_type": "code",
   "execution_count": 2,
   "metadata": {},
   "outputs": [
    {
     "name": "stderr",
     "output_type": "stream",
     "text": [
      "C:\\Users\\jaret\\AppData\\Local\\Temp\\ipykernel_56336\\3797182642.py:8: DtypeWarning: Columns (15,18) have mixed types. Specify dtype option on import or set low_memory=False.\n",
      "  df1 = pd.read_csv(nombre_archivo)\n"
     ]
    },
    {
     "name": "stdout",
     "output_type": "stream",
     "text": [
      "Datos de REC21_2023:\n",
      "        ID1              CASEID  BIDX  BORD  B0  B1    B2    B3  B4  B5  ...  \\\n",
      "0      2023        000100601  2     4     1   0   6  2001  1218   1   1  ...   \n",
      "1      2023        000102201  2     1     1   0  11  2020  1451   2   1  ...   \n",
      "2      2023        000102801  1     2     1   0  10  2015  1391   1   1  ...   \n",
      "3      2023        000106501  2     1     1   0   6  2018  1423   2   1  ...   \n",
      "4      2023        000108001  1     2     1   0   6  2012  1351   1   1  ...   \n",
      "...     ...                 ...   ...   ...  ..  ..   ...   ...  ..  ..  ...   \n",
      "63588  2023        542607001  2     1    13   0   3  2019  1431   1   1  ...   \n",
      "63589  2023        362208901  2     3    14   0   4  2011  1336   2   0  ...   \n",
      "63590  2023        532901101  2     1    14   0   4  2014  1372   1   1  ...   \n",
      "63591  2023        362208901  2     2    15   0   6  2015  1386   1   1  ...   \n",
      "63592  2023        362208901  2     1    16   0   4  2017  1408   1   1  ...   \n",
      "\n",
      "       BCMC BEDAD QD333_1 QD333_2  QD333_3 QD333_4 QD333_5 QD333_6 Q220A QULT5  \n",
      "0      1478   260                                                            0  \n",
      "1      1478    27       2       2        2       2       2       2     9     1  \n",
      "2      1478    87                                                            0  \n",
      "3      1478    55       2       2        2       2       2       2     9     1  \n",
      "4      1478   127                                                            0  \n",
      "...     ...   ...     ...     ...      ...     ...     ...     ...   ...   ...  \n",
      "63588  1483    52       2       2        2       2       2       2     9     1  \n",
      "63589  1482   146                                                            0  \n",
      "63590  1487   115                                                            0  \n",
      "63591  1482    96                                                            0  \n",
      "63592  1482    74                                                            1  \n",
      "\n",
      "[63593 rows x 34 columns]\n",
      "Datos de RE223132_2023:\n",
      "        ID1              CASEID  V201  V202  V203  V204  V205  V206  V207  \\\n",
      "0      2023        000100601  2     4     1     3     0     0     0     0   \n",
      "1      2023        000100601  3     0     0     0     0     0     0     0   \n",
      "2      2023        000101001  3     0     0     0     0     0     0     0   \n",
      "3      2023        000102201  2     1     0     1     0     0     0     0   \n",
      "4      2023        000102801  1     2     1     1     0     0     0     0   \n",
      "...     ...                 ...   ...   ...   ...   ...   ...   ...   ...   \n",
      "35652  2023        542901001  4     1     0     1     0     0     0     0   \n",
      "35653  2023        542901501  1     8     2     2     2     2     0     0   \n",
      "35654  2023        542901501  5     1     0     1     0     0     0     0   \n",
      "35655  2023        542901701  1     3     1     2     0     0     0     0   \n",
      "35656  2023        542901701  2     0     0     0     0     0     0     0   \n",
      "\n",
      "       V208  ...  V307_07  V307_08 V307_09 V307_10  V307_11 V307_12  V307_13  \\\n",
      "0         1  ...                 1       0                                 0   \n",
      "1         0  ...                                                               \n",
      "2         0  ...                                                               \n",
      "3         1  ...                 0                        1                    \n",
      "4         1  ...                 0       0                                     \n",
      "...     ...  ...      ...      ...     ...     ...      ...     ...      ...   \n",
      "35652     0  ...                 0       1                0                    \n",
      "35653     0  ...                                                               \n",
      "35654     0  ...                         0                                     \n",
      "35655     0  ...                 0                                             \n",
      "35656     0  ...                                                               \n",
      "\n",
      "       V307_14  V307_15  V307_16  \n",
      "0                                 \n",
      "1                                 \n",
      "2                                 \n",
      "3                                 \n",
      "4                              0  \n",
      "...        ...      ...      ...  \n",
      "35652                          0  \n",
      "35653                             \n",
      "35654                          0  \n",
      "35655                             \n",
      "35656                             \n",
      "\n",
      "[35657 rows x 149 columns]\n"
     ]
    }
   ],
   "source": [
    "import pandas as pd\n",
    "\n",
    "# Cargar el archivo CSV\n",
    "nombre_archivo = \"REC21_2023.csv\"  # Asegúrate de proporcionar la ruta correcta\n",
    "hoja = \"REC21_2023\"  # Nombre lógico para la \"hoja\"\n",
    "\n",
    "# Importar los datos del CSV\n",
    "df1 = pd.read_csv(nombre_archivo)\n",
    "\n",
    "# Imprimir los datos con el nombre de la hoja\n",
    "print(f\"Datos de {hoja}:\")\n",
    "print(df1)\n",
    "\n",
    "#######################\n",
    "import pandas as pd\n",
    "\n",
    "# Cargar el archivo CSV\n",
    "nombre_archivo1 = \"RE223132_2023.csv\"  # Asegúrate de proporcionar la ruta correcta\n",
    "hoja1 = \"RE223132_2023\"  # Nombre lógico para la \"hoja\"\n",
    "\n",
    "# Importar los datos del CSV\n",
    "df2 = pd.read_csv(nombre_archivo1)\n",
    "\n",
    "# Imprimir los datos con el nombre de la hoja\n",
    "print(f\"Datos de {hoja1}:\")\n",
    "print(df2)\n"
   ]
  },
  {
   "cell_type": "code",
   "execution_count": 4,
   "metadata": {},
   "outputs": [
    {
     "name": "stdout",
     "output_type": "stream",
     "text": [
      "        ID1              CASEID  BIDX  BORD  B0  B1    B2    B3  B4  B5  ...  \\\n",
      "0      2023        000100601  2     4     1   0   6  2001  1218   1   1  ...   \n",
      "1      2023        000102201  2     1     1   0  11  2020  1451   2   1  ...   \n",
      "2      2023        000102801  1     2     1   0  10  2015  1391   1   1  ...   \n",
      "3      2023        000106501  2     1     1   0   6  2018  1423   2   1  ...   \n",
      "4      2023        000108001  1     2     1   0   6  2012  1351   1   1  ...   \n",
      "...     ...                 ...   ...   ...  ..  ..   ...   ...  ..  ..  ...   \n",
      "63588  2023        542607001  2     1    13   0   3  2019  1431   1   1  ...   \n",
      "63589  2023        362208901  2     3    14   0   4  2011  1336   2   0  ...   \n",
      "63590  2023        532901101  2     1    14   0   4  2014  1372   1   1  ...   \n",
      "63591  2023        362208901  2     2    15   0   6  2015  1386   1   1  ...   \n",
      "63592  2023        362208901  2     1    16   0   4  2017  1408   1   1  ...   \n",
      "\n",
      "       BCMC BEDAD QD333_1 QD333_2  QD333_3 QD333_4 QD333_5 QD333_6 Q220A QULT5  \n",
      "0      1478   260                                                            0  \n",
      "1      1478    27       2       2        2       2       2       2     9     1  \n",
      "2      1478    87                                                            0  \n",
      "3      1478    55       2       2        2       2       2       2     9     1  \n",
      "4      1478   127                                                            0  \n",
      "...     ...   ...     ...     ...      ...     ...     ...     ...   ...   ...  \n",
      "63588  1483    52       2       2        2       2       2       2     9     1  \n",
      "63589  1482   146                                                            0  \n",
      "63590  1487   115                                                            0  \n",
      "63591  1482    96                                                            0  \n",
      "63592  1482    74                                                            1  \n",
      "\n",
      "[63593 rows x 34 columns]\n"
     ]
    }
   ],
   "source": [
    "print(df1)"
   ]
  },
  {
   "cell_type": "code",
   "execution_count": 3,
   "metadata": {},
   "outputs": [
    {
     "name": "stdout",
     "output_type": "stream",
     "text": [
      "        ID1              CASEID  V201  V202  V203  V204  V205  V206  V207  \\\n",
      "0      2023        000100601  2     4     1     3     0     0     0     0   \n",
      "1      2023        000100601  3     0     0     0     0     0     0     0   \n",
      "2      2023        000101001  3     0     0     0     0     0     0     0   \n",
      "3      2023        000102201  2     1     0     1     0     0     0     0   \n",
      "4      2023        000102801  1     2     1     1     0     0     0     0   \n",
      "...     ...                 ...   ...   ...   ...   ...   ...   ...   ...   \n",
      "35652  2023        542901001  4     1     0     1     0     0     0     0   \n",
      "35653  2023        542901501  1     8     2     2     2     2     0     0   \n",
      "35654  2023        542901501  5     1     0     1     0     0     0     0   \n",
      "35655  2023        542901701  1     3     1     2     0     0     0     0   \n",
      "35656  2023        542901701  2     0     0     0     0     0     0     0   \n",
      "\n",
      "       V208  ...  V307_07  V307_08 V307_09 V307_10  V307_11 V307_12  V307_13  \\\n",
      "0         1  ...                 1       0                                 0   \n",
      "1         0  ...                                                               \n",
      "2         0  ...                                                               \n",
      "3         1  ...                 0                        1                    \n",
      "4         1  ...                 0       0                                     \n",
      "...     ...  ...      ...      ...     ...     ...      ...     ...      ...   \n",
      "35652     0  ...                 0       1                0                    \n",
      "35653     0  ...                                                               \n",
      "35654     0  ...                         0                                     \n",
      "35655     0  ...                 0                                             \n",
      "35656     0  ...                                                               \n",
      "\n",
      "       V307_14  V307_15  V307_16  \n",
      "0                                 \n",
      "1                                 \n",
      "2                                 \n",
      "3                                 \n",
      "4                              0  \n",
      "...        ...      ...      ...  \n",
      "35652                          0  \n",
      "35653                             \n",
      "35654                          0  \n",
      "35655                             \n",
      "35656                             \n",
      "\n",
      "[35657 rows x 149 columns]\n"
     ]
    }
   ],
   "source": [
    "print(df2)"
   ]
  },
  {
   "cell_type": "code",
   "execution_count": 6,
   "metadata": {},
   "outputs": [
    {
     "ename": "MemoryError",
     "evalue": "Unable to allocate 16.9 GiB for an array with shape (2267535601,) and data type int64",
     "output_type": "error",
     "traceback": [
      "\u001b[1;31m---------------------------------------------------------------------------\u001b[0m",
      "\u001b[1;31mMemoryError\u001b[0m                               Traceback (most recent call last)",
      "Cell \u001b[1;32mIn[6], line 1\u001b[0m\n\u001b[1;32m----> 1\u001b[0m tabla_Resultante_1 \u001b[38;5;241m=\u001b[39m \u001b[43mpd\u001b[49m\u001b[38;5;241;43m.\u001b[39;49m\u001b[43mmerge\u001b[49m\u001b[43m(\u001b[49m\u001b[43mdf1\u001b[49m\u001b[43m,\u001b[49m\u001b[43mdf2\u001b[49m\u001b[43m,\u001b[49m\u001b[43mon\u001b[49m\u001b[38;5;241;43m=\u001b[39;49m\u001b[38;5;124;43m\"\u001b[39;49m\u001b[38;5;124;43mID1\u001b[39;49m\u001b[38;5;124;43m\"\u001b[39;49m\u001b[43m,\u001b[49m\u001b[43mhow\u001b[49m\u001b[38;5;241;43m=\u001b[39;49m\u001b[38;5;124;43m\"\u001b[39;49m\u001b[38;5;124;43minner\u001b[39;49m\u001b[38;5;124;43m\"\u001b[39;49m\u001b[43m)\u001b[49m\n\u001b[0;32m      2\u001b[0m \u001b[38;5;28mprint\u001b[39m(tabla_Resultante_1)\n",
      "File \u001b[1;32mc:\\Users\\jaret\\AppData\\Local\\Programs\\Python\\Python312\\Lib\\site-packages\\pandas\\core\\reshape\\merge.py:184\u001b[0m, in \u001b[0;36mmerge\u001b[1;34m(left, right, how, on, left_on, right_on, left_index, right_index, sort, suffixes, copy, indicator, validate)\u001b[0m\n\u001b[0;32m    169\u001b[0m \u001b[38;5;28;01melse\u001b[39;00m:\n\u001b[0;32m    170\u001b[0m     op \u001b[38;5;241m=\u001b[39m _MergeOperation(\n\u001b[0;32m    171\u001b[0m         left_df,\n\u001b[0;32m    172\u001b[0m         right_df,\n\u001b[1;32m   (...)\u001b[0m\n\u001b[0;32m    182\u001b[0m         validate\u001b[38;5;241m=\u001b[39mvalidate,\n\u001b[0;32m    183\u001b[0m     )\n\u001b[1;32m--> 184\u001b[0m     \u001b[38;5;28;01mreturn\u001b[39;00m \u001b[43mop\u001b[49m\u001b[38;5;241;43m.\u001b[39;49m\u001b[43mget_result\u001b[49m\u001b[43m(\u001b[49m\u001b[43mcopy\u001b[49m\u001b[38;5;241;43m=\u001b[39;49m\u001b[43mcopy\u001b[49m\u001b[43m)\u001b[49m\n",
      "File \u001b[1;32mc:\\Users\\jaret\\AppData\\Local\\Programs\\Python\\Python312\\Lib\\site-packages\\pandas\\core\\reshape\\merge.py:886\u001b[0m, in \u001b[0;36m_MergeOperation.get_result\u001b[1;34m(self, copy)\u001b[0m\n\u001b[0;32m    883\u001b[0m \u001b[38;5;28;01mif\u001b[39;00m \u001b[38;5;28mself\u001b[39m\u001b[38;5;241m.\u001b[39mindicator:\n\u001b[0;32m    884\u001b[0m     \u001b[38;5;28mself\u001b[39m\u001b[38;5;241m.\u001b[39mleft, \u001b[38;5;28mself\u001b[39m\u001b[38;5;241m.\u001b[39mright \u001b[38;5;241m=\u001b[39m \u001b[38;5;28mself\u001b[39m\u001b[38;5;241m.\u001b[39m_indicator_pre_merge(\u001b[38;5;28mself\u001b[39m\u001b[38;5;241m.\u001b[39mleft, \u001b[38;5;28mself\u001b[39m\u001b[38;5;241m.\u001b[39mright)\n\u001b[1;32m--> 886\u001b[0m join_index, left_indexer, right_indexer \u001b[38;5;241m=\u001b[39m \u001b[38;5;28;43mself\u001b[39;49m\u001b[38;5;241;43m.\u001b[39;49m\u001b[43m_get_join_info\u001b[49m\u001b[43m(\u001b[49m\u001b[43m)\u001b[49m\n\u001b[0;32m    888\u001b[0m result \u001b[38;5;241m=\u001b[39m \u001b[38;5;28mself\u001b[39m\u001b[38;5;241m.\u001b[39m_reindex_and_concat(\n\u001b[0;32m    889\u001b[0m     join_index, left_indexer, right_indexer, copy\u001b[38;5;241m=\u001b[39mcopy\n\u001b[0;32m    890\u001b[0m )\n\u001b[0;32m    891\u001b[0m result \u001b[38;5;241m=\u001b[39m result\u001b[38;5;241m.\u001b[39m__finalize__(\u001b[38;5;28mself\u001b[39m, method\u001b[38;5;241m=\u001b[39m\u001b[38;5;28mself\u001b[39m\u001b[38;5;241m.\u001b[39m_merge_type)\n",
      "File \u001b[1;32mc:\\Users\\jaret\\AppData\\Local\\Programs\\Python\\Python312\\Lib\\site-packages\\pandas\\core\\reshape\\merge.py:1151\u001b[0m, in \u001b[0;36m_MergeOperation._get_join_info\u001b[1;34m(self)\u001b[0m\n\u001b[0;32m   1147\u001b[0m     join_index, right_indexer, left_indexer \u001b[38;5;241m=\u001b[39m _left_join_on_index(\n\u001b[0;32m   1148\u001b[0m         right_ax, left_ax, \u001b[38;5;28mself\u001b[39m\u001b[38;5;241m.\u001b[39mright_join_keys, sort\u001b[38;5;241m=\u001b[39m\u001b[38;5;28mself\u001b[39m\u001b[38;5;241m.\u001b[39msort\n\u001b[0;32m   1149\u001b[0m     )\n\u001b[0;32m   1150\u001b[0m \u001b[38;5;28;01melse\u001b[39;00m:\n\u001b[1;32m-> 1151\u001b[0m     (left_indexer, right_indexer) \u001b[38;5;241m=\u001b[39m \u001b[38;5;28;43mself\u001b[39;49m\u001b[38;5;241;43m.\u001b[39;49m\u001b[43m_get_join_indexers\u001b[49m\u001b[43m(\u001b[49m\u001b[43m)\u001b[49m\n\u001b[0;32m   1153\u001b[0m     \u001b[38;5;28;01mif\u001b[39;00m \u001b[38;5;28mself\u001b[39m\u001b[38;5;241m.\u001b[39mright_index:\n\u001b[0;32m   1154\u001b[0m         \u001b[38;5;28;01mif\u001b[39;00m \u001b[38;5;28mlen\u001b[39m(\u001b[38;5;28mself\u001b[39m\u001b[38;5;241m.\u001b[39mleft) \u001b[38;5;241m>\u001b[39m \u001b[38;5;241m0\u001b[39m:\n",
      "File \u001b[1;32mc:\\Users\\jaret\\AppData\\Local\\Programs\\Python\\Python312\\Lib\\site-packages\\pandas\\core\\reshape\\merge.py:1125\u001b[0m, in \u001b[0;36m_MergeOperation._get_join_indexers\u001b[1;34m(self)\u001b[0m\n\u001b[0;32m   1123\u001b[0m \u001b[38;5;66;03m# make mypy happy\u001b[39;00m\n\u001b[0;32m   1124\u001b[0m \u001b[38;5;28;01massert\u001b[39;00m \u001b[38;5;28mself\u001b[39m\u001b[38;5;241m.\u001b[39mhow \u001b[38;5;241m!=\u001b[39m \u001b[38;5;124m\"\u001b[39m\u001b[38;5;124masof\u001b[39m\u001b[38;5;124m\"\u001b[39m\n\u001b[1;32m-> 1125\u001b[0m \u001b[38;5;28;01mreturn\u001b[39;00m \u001b[43mget_join_indexers\u001b[49m\u001b[43m(\u001b[49m\n\u001b[0;32m   1126\u001b[0m \u001b[43m    \u001b[49m\u001b[38;5;28;43mself\u001b[39;49m\u001b[38;5;241;43m.\u001b[39;49m\u001b[43mleft_join_keys\u001b[49m\u001b[43m,\u001b[49m\u001b[43m \u001b[49m\u001b[38;5;28;43mself\u001b[39;49m\u001b[38;5;241;43m.\u001b[39;49m\u001b[43mright_join_keys\u001b[49m\u001b[43m,\u001b[49m\u001b[43m \u001b[49m\u001b[43msort\u001b[49m\u001b[38;5;241;43m=\u001b[39;49m\u001b[38;5;28;43mself\u001b[39;49m\u001b[38;5;241;43m.\u001b[39;49m\u001b[43msort\u001b[49m\u001b[43m,\u001b[49m\u001b[43m \u001b[49m\u001b[43mhow\u001b[49m\u001b[38;5;241;43m=\u001b[39;49m\u001b[38;5;28;43mself\u001b[39;49m\u001b[38;5;241;43m.\u001b[39;49m\u001b[43mhow\u001b[49m\n\u001b[0;32m   1127\u001b[0m \u001b[43m\u001b[49m\u001b[43m)\u001b[49m\n",
      "File \u001b[1;32mc:\\Users\\jaret\\AppData\\Local\\Programs\\Python\\Python312\\Lib\\site-packages\\pandas\\core\\reshape\\merge.py:1759\u001b[0m, in \u001b[0;36mget_join_indexers\u001b[1;34m(left_keys, right_keys, sort, how)\u001b[0m\n\u001b[0;32m   1757\u001b[0m     _, lidx, ridx \u001b[38;5;241m=\u001b[39m left\u001b[38;5;241m.\u001b[39mjoin(right, how\u001b[38;5;241m=\u001b[39mhow, return_indexers\u001b[38;5;241m=\u001b[39m\u001b[38;5;28;01mTrue\u001b[39;00m, sort\u001b[38;5;241m=\u001b[39msort)\n\u001b[0;32m   1758\u001b[0m \u001b[38;5;28;01melse\u001b[39;00m:\n\u001b[1;32m-> 1759\u001b[0m     lidx, ridx \u001b[38;5;241m=\u001b[39m \u001b[43mget_join_indexers_non_unique\u001b[49m\u001b[43m(\u001b[49m\n\u001b[0;32m   1760\u001b[0m \u001b[43m        \u001b[49m\u001b[43mleft\u001b[49m\u001b[38;5;241;43m.\u001b[39;49m\u001b[43m_values\u001b[49m\u001b[43m,\u001b[49m\u001b[43m \u001b[49m\u001b[43mright\u001b[49m\u001b[38;5;241;43m.\u001b[39;49m\u001b[43m_values\u001b[49m\u001b[43m,\u001b[49m\u001b[43m \u001b[49m\u001b[43msort\u001b[49m\u001b[43m,\u001b[49m\u001b[43m \u001b[49m\u001b[43mhow\u001b[49m\n\u001b[0;32m   1761\u001b[0m \u001b[43m    \u001b[49m\u001b[43m)\u001b[49m\n\u001b[0;32m   1763\u001b[0m \u001b[38;5;28;01mif\u001b[39;00m lidx \u001b[38;5;129;01mis\u001b[39;00m \u001b[38;5;129;01mnot\u001b[39;00m \u001b[38;5;28;01mNone\u001b[39;00m \u001b[38;5;129;01mand\u001b[39;00m is_range_indexer(lidx, \u001b[38;5;28mlen\u001b[39m(left)):\n\u001b[0;32m   1764\u001b[0m     lidx \u001b[38;5;241m=\u001b[39m \u001b[38;5;28;01mNone\u001b[39;00m\n",
      "File \u001b[1;32mc:\\Users\\jaret\\AppData\\Local\\Programs\\Python\\Python312\\Lib\\site-packages\\pandas\\core\\reshape\\merge.py:1799\u001b[0m, in \u001b[0;36mget_join_indexers_non_unique\u001b[1;34m(left, right, sort, how)\u001b[0m\n\u001b[0;32m   1797\u001b[0m     ridx, lidx \u001b[38;5;241m=\u001b[39m libjoin\u001b[38;5;241m.\u001b[39mleft_outer_join(rkey, lkey, count, sort\u001b[38;5;241m=\u001b[39msort)\n\u001b[0;32m   1798\u001b[0m \u001b[38;5;28;01melif\u001b[39;00m how \u001b[38;5;241m==\u001b[39m \u001b[38;5;124m\"\u001b[39m\u001b[38;5;124minner\u001b[39m\u001b[38;5;124m\"\u001b[39m:\n\u001b[1;32m-> 1799\u001b[0m     lidx, ridx \u001b[38;5;241m=\u001b[39m \u001b[43mlibjoin\u001b[49m\u001b[38;5;241;43m.\u001b[39;49m\u001b[43minner_join\u001b[49m\u001b[43m(\u001b[49m\u001b[43mlkey\u001b[49m\u001b[43m,\u001b[49m\u001b[43m \u001b[49m\u001b[43mrkey\u001b[49m\u001b[43m,\u001b[49m\u001b[43m \u001b[49m\u001b[43mcount\u001b[49m\u001b[43m,\u001b[49m\u001b[43m \u001b[49m\u001b[43msort\u001b[49m\u001b[38;5;241;43m=\u001b[39;49m\u001b[43msort\u001b[49m\u001b[43m)\u001b[49m\n\u001b[0;32m   1800\u001b[0m \u001b[38;5;28;01melif\u001b[39;00m how \u001b[38;5;241m==\u001b[39m \u001b[38;5;124m\"\u001b[39m\u001b[38;5;124mouter\u001b[39m\u001b[38;5;124m\"\u001b[39m:\n\u001b[0;32m   1801\u001b[0m     lidx, ridx \u001b[38;5;241m=\u001b[39m libjoin\u001b[38;5;241m.\u001b[39mfull_outer_join(lkey, rkey, count)\n",
      "File \u001b[1;32mjoin.pyx:81\u001b[0m, in \u001b[0;36mpandas._libs.join.inner_join\u001b[1;34m()\u001b[0m\n",
      "File \u001b[1;32malgos.pyx:240\u001b[0m, in \u001b[0;36mpandas._libs.algos.groupsort_indexer\u001b[1;34m()\u001b[0m\n",
      "\u001b[1;31mMemoryError\u001b[0m: Unable to allocate 16.9 GiB for an array with shape (2267535601,) and data type int64"
     ]
    }
   ],
   "source": [
    "tabla_Resultante_1 = pd.merge(df1,df2,on=\"ID1\",how=\"inner\")\n",
    "print(tabla_Resultante_1)"
   ]
  },
  {
   "cell_type": "code",
   "execution_count": null,
   "metadata": {},
   "outputs": [],
   "source": [
    "# Exportar datos y luego aplicar formato\n",
    "tabla_Resultante_1.to_excel('tabla_r.xlsx', sheet_name='Hoja1', index=False)\n"
   ]
  }
 ],
 "metadata": {
  "kernelspec": {
   "display_name": "Python 3",
   "language": "python",
   "name": "python3"
  },
  "language_info": {
   "codemirror_mode": {
    "name": "ipython",
    "version": 3
   },
   "file_extension": ".py",
   "mimetype": "text/x-python",
   "name": "python",
   "nbconvert_exporter": "python",
   "pygments_lexer": "ipython3",
   "version": "3.12.7"
  }
 },
 "nbformat": 4,
 "nbformat_minor": 2
}
